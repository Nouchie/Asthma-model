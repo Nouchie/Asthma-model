{
  "nbformat": 4,
  "nbformat_minor": 0,
  "metadata": {
    "colab": {
      "provenance": [],
      "gpuType": "T4"
    },
    "kernelspec": {
      "name": "python3",
      "display_name": "Python 3"
    },
    "language_info": {
      "name": "python"
    },
    "accelerator": "GPU",
    "widgets": {
      "application/vnd.jupyter.widget-state+json": {
        "9602137db68f4106925642b8fd6b9dfd": {
          "model_module": "@jupyter-widgets/controls",
          "model_name": "HBoxModel",
          "model_module_version": "1.5.0",
          "state": {
            "_dom_classes": [],
            "_model_module": "@jupyter-widgets/controls",
            "_model_module_version": "1.5.0",
            "_model_name": "HBoxModel",
            "_view_count": null,
            "_view_module": "@jupyter-widgets/controls",
            "_view_module_version": "1.5.0",
            "_view_name": "HBoxView",
            "box_style": "",
            "children": [
              "IPY_MODEL_3680e0c01eab49119b11f7dbae2cc528",
              "IPY_MODEL_78e14bcab7dd49c8a95be678167edbd8",
              "IPY_MODEL_9927d0d525884f80a651f33815a31916"
            ],
            "layout": "IPY_MODEL_5162272a66a644069ceb1c5e0eee35cd"
          }
        },
        "3680e0c01eab49119b11f7dbae2cc528": {
          "model_module": "@jupyter-widgets/controls",
          "model_name": "HTMLModel",
          "model_module_version": "1.5.0",
          "state": {
            "_dom_classes": [],
            "_model_module": "@jupyter-widgets/controls",
            "_model_module_version": "1.5.0",
            "_model_name": "HTMLModel",
            "_view_count": null,
            "_view_module": "@jupyter-widgets/controls",
            "_view_module_version": "1.5.0",
            "_view_name": "HTMLView",
            "description": "",
            "description_tooltip": null,
            "layout": "IPY_MODEL_7566962b6d8940b8b1b69e0ed9926cb9",
            "placeholder": "​",
            "style": "IPY_MODEL_4a4caabafafc4205a1213d83ebce3beb",
            "value": "100%"
          }
        },
        "78e14bcab7dd49c8a95be678167edbd8": {
          "model_module": "@jupyter-widgets/controls",
          "model_name": "FloatProgressModel",
          "model_module_version": "1.5.0",
          "state": {
            "_dom_classes": [],
            "_model_module": "@jupyter-widgets/controls",
            "_model_module_version": "1.5.0",
            "_model_name": "FloatProgressModel",
            "_view_count": null,
            "_view_module": "@jupyter-widgets/controls",
            "_view_module_version": "1.5.0",
            "_view_name": "ProgressView",
            "bar_style": "success",
            "description": "",
            "description_tooltip": null,
            "layout": "IPY_MODEL_22c87f4ac0664a83b02ac16d7c55c49d",
            "max": 25,
            "min": 0,
            "orientation": "horizontal",
            "style": "IPY_MODEL_2709c717fae1461c9c72f03cae6d593c",
            "value": 25
          }
        },
        "9927d0d525884f80a651f33815a31916": {
          "model_module": "@jupyter-widgets/controls",
          "model_name": "HTMLModel",
          "model_module_version": "1.5.0",
          "state": {
            "_dom_classes": [],
            "_model_module": "@jupyter-widgets/controls",
            "_model_module_version": "1.5.0",
            "_model_name": "HTMLModel",
            "_view_count": null,
            "_view_module": "@jupyter-widgets/controls",
            "_view_module_version": "1.5.0",
            "_view_name": "HTMLView",
            "description": "",
            "description_tooltip": null,
            "layout": "IPY_MODEL_3a4027ec363f4e52b2a1c0db9b5bcb75",
            "placeholder": "​",
            "style": "IPY_MODEL_5e17fc84d368486f8a1c1770f8fc607c",
            "value": " 25/25 [00:11&lt;00:00,  2.25it/s]"
          }
        },
        "5162272a66a644069ceb1c5e0eee35cd": {
          "model_module": "@jupyter-widgets/base",
          "model_name": "LayoutModel",
          "model_module_version": "1.2.0",
          "state": {
            "_model_module": "@jupyter-widgets/base",
            "_model_module_version": "1.2.0",
            "_model_name": "LayoutModel",
            "_view_count": null,
            "_view_module": "@jupyter-widgets/base",
            "_view_module_version": "1.2.0",
            "_view_name": "LayoutView",
            "align_content": null,
            "align_items": null,
            "align_self": null,
            "border": null,
            "bottom": null,
            "display": null,
            "flex": null,
            "flex_flow": null,
            "grid_area": null,
            "grid_auto_columns": null,
            "grid_auto_flow": null,
            "grid_auto_rows": null,
            "grid_column": null,
            "grid_gap": null,
            "grid_row": null,
            "grid_template_areas": null,
            "grid_template_columns": null,
            "grid_template_rows": null,
            "height": null,
            "justify_content": null,
            "justify_items": null,
            "left": null,
            "margin": null,
            "max_height": null,
            "max_width": null,
            "min_height": null,
            "min_width": null,
            "object_fit": null,
            "object_position": null,
            "order": null,
            "overflow": null,
            "overflow_x": null,
            "overflow_y": null,
            "padding": null,
            "right": null,
            "top": null,
            "visibility": null,
            "width": null
          }
        },
        "7566962b6d8940b8b1b69e0ed9926cb9": {
          "model_module": "@jupyter-widgets/base",
          "model_name": "LayoutModel",
          "model_module_version": "1.2.0",
          "state": {
            "_model_module": "@jupyter-widgets/base",
            "_model_module_version": "1.2.0",
            "_model_name": "LayoutModel",
            "_view_count": null,
            "_view_module": "@jupyter-widgets/base",
            "_view_module_version": "1.2.0",
            "_view_name": "LayoutView",
            "align_content": null,
            "align_items": null,
            "align_self": null,
            "border": null,
            "bottom": null,
            "display": null,
            "flex": null,
            "flex_flow": null,
            "grid_area": null,
            "grid_auto_columns": null,
            "grid_auto_flow": null,
            "grid_auto_rows": null,
            "grid_column": null,
            "grid_gap": null,
            "grid_row": null,
            "grid_template_areas": null,
            "grid_template_columns": null,
            "grid_template_rows": null,
            "height": null,
            "justify_content": null,
            "justify_items": null,
            "left": null,
            "margin": null,
            "max_height": null,
            "max_width": null,
            "min_height": null,
            "min_width": null,
            "object_fit": null,
            "object_position": null,
            "order": null,
            "overflow": null,
            "overflow_x": null,
            "overflow_y": null,
            "padding": null,
            "right": null,
            "top": null,
            "visibility": null,
            "width": null
          }
        },
        "4a4caabafafc4205a1213d83ebce3beb": {
          "model_module": "@jupyter-widgets/controls",
          "model_name": "DescriptionStyleModel",
          "model_module_version": "1.5.0",
          "state": {
            "_model_module": "@jupyter-widgets/controls",
            "_model_module_version": "1.5.0",
            "_model_name": "DescriptionStyleModel",
            "_view_count": null,
            "_view_module": "@jupyter-widgets/base",
            "_view_module_version": "1.2.0",
            "_view_name": "StyleView",
            "description_width": ""
          }
        },
        "22c87f4ac0664a83b02ac16d7c55c49d": {
          "model_module": "@jupyter-widgets/base",
          "model_name": "LayoutModel",
          "model_module_version": "1.2.0",
          "state": {
            "_model_module": "@jupyter-widgets/base",
            "_model_module_version": "1.2.0",
            "_model_name": "LayoutModel",
            "_view_count": null,
            "_view_module": "@jupyter-widgets/base",
            "_view_module_version": "1.2.0",
            "_view_name": "LayoutView",
            "align_content": null,
            "align_items": null,
            "align_self": null,
            "border": null,
            "bottom": null,
            "display": null,
            "flex": null,
            "flex_flow": null,
            "grid_area": null,
            "grid_auto_columns": null,
            "grid_auto_flow": null,
            "grid_auto_rows": null,
            "grid_column": null,
            "grid_gap": null,
            "grid_row": null,
            "grid_template_areas": null,
            "grid_template_columns": null,
            "grid_template_rows": null,
            "height": null,
            "justify_content": null,
            "justify_items": null,
            "left": null,
            "margin": null,
            "max_height": null,
            "max_width": null,
            "min_height": null,
            "min_width": null,
            "object_fit": null,
            "object_position": null,
            "order": null,
            "overflow": null,
            "overflow_x": null,
            "overflow_y": null,
            "padding": null,
            "right": null,
            "top": null,
            "visibility": null,
            "width": null
          }
        },
        "2709c717fae1461c9c72f03cae6d593c": {
          "model_module": "@jupyter-widgets/controls",
          "model_name": "ProgressStyleModel",
          "model_module_version": "1.5.0",
          "state": {
            "_model_module": "@jupyter-widgets/controls",
            "_model_module_version": "1.5.0",
            "_model_name": "ProgressStyleModel",
            "_view_count": null,
            "_view_module": "@jupyter-widgets/base",
            "_view_module_version": "1.2.0",
            "_view_name": "StyleView",
            "bar_color": null,
            "description_width": ""
          }
        },
        "3a4027ec363f4e52b2a1c0db9b5bcb75": {
          "model_module": "@jupyter-widgets/base",
          "model_name": "LayoutModel",
          "model_module_version": "1.2.0",
          "state": {
            "_model_module": "@jupyter-widgets/base",
            "_model_module_version": "1.2.0",
            "_model_name": "LayoutModel",
            "_view_count": null,
            "_view_module": "@jupyter-widgets/base",
            "_view_module_version": "1.2.0",
            "_view_name": "LayoutView",
            "align_content": null,
            "align_items": null,
            "align_self": null,
            "border": null,
            "bottom": null,
            "display": null,
            "flex": null,
            "flex_flow": null,
            "grid_area": null,
            "grid_auto_columns": null,
            "grid_auto_flow": null,
            "grid_auto_rows": null,
            "grid_column": null,
            "grid_gap": null,
            "grid_row": null,
            "grid_template_areas": null,
            "grid_template_columns": null,
            "grid_template_rows": null,
            "height": null,
            "justify_content": null,
            "justify_items": null,
            "left": null,
            "margin": null,
            "max_height": null,
            "max_width": null,
            "min_height": null,
            "min_width": null,
            "object_fit": null,
            "object_position": null,
            "order": null,
            "overflow": null,
            "overflow_x": null,
            "overflow_y": null,
            "padding": null,
            "right": null,
            "top": null,
            "visibility": null,
            "width": null
          }
        },
        "5e17fc84d368486f8a1c1770f8fc607c": {
          "model_module": "@jupyter-widgets/controls",
          "model_name": "DescriptionStyleModel",
          "model_module_version": "1.5.0",
          "state": {
            "_model_module": "@jupyter-widgets/controls",
            "_model_module_version": "1.5.0",
            "_model_name": "DescriptionStyleModel",
            "_view_count": null,
            "_view_module": "@jupyter-widgets/base",
            "_view_module_version": "1.2.0",
            "_view_name": "StyleView",
            "description_width": ""
          }
        }
      }
    }
  },
  "cells": [
    {
      "cell_type": "code",
      "execution_count": 15,
      "metadata": {
        "id": "wz4b0KkUf7zK"
      },
      "outputs": [],
      "source": [
        "import pandas as pd\n",
        "import numpy as np\n",
        "import torch\n",
        "import torch.nn as nn\n",
        "import torch.optim as optim\n",
        "from sklearn.model_selection import train_test_split\n",
        "from sklearn.preprocessing import StandardScaler, LabelEncoder\n",
        "from torch.utils.data import Dataset, DataLoader"
      ]
    },
    {
      "cell_type": "code",
      "source": [
        "# Load the dataset\n",
        "data = pd.read_csv('/content/asthma_disease_data.csv')\n",
        "\n",
        "# Drop columns that should not be used as features\n",
        "data = data.drop(columns=['DoctorInCharge'])\n",
        "\n",
        "# Basic data cleaning (handling missing values, encoding categorical features, etc.)\n",
        "data = data.dropna()  # Drop rows with missing values"
      ],
      "metadata": {
        "id": "SO2c6bBfgcZp"
      },
      "execution_count": 16,
      "outputs": []
    },
    {
      "cell_type": "code",
      "source": [
        "# Encode categorical variables\n",
        "label_encoders = {}\n",
        "categorical_columns = ['Gender', 'Ethnicity', 'EducationLevel', 'Smoking', 'PhysicalActivity',\n",
        "                       'DietQuality', 'SleepQuality', 'PollutionExposure', 'PollenExposure',\n",
        "                       'DustExposure', 'PetAllergy', 'FamilyHistoryAsthma', 'HistoryOfAllergies',\n",
        "                       'Eczema', 'HayFever', 'GastroesophagealReflux']\n",
        "\n",
        "for column in categorical_columns:\n",
        "    le = LabelEncoder()\n",
        "    data[column] = le.fit_transform(data[column])\n",
        "    label_encoders[column] = le"
      ],
      "metadata": {
        "id": "uAmdYpXqhKrf"
      },
      "execution_count": 17,
      "outputs": []
    },
    {
      "cell_type": "code",
      "source": [
        "# Feature scaling\n",
        "scaler = StandardScaler()\n",
        "numeric_columns = ['Age', 'BMI', 'LungFunctionFEV1', 'LungFunctionFVC']\n",
        "data[numeric_columns] = scaler.fit_transform(data[numeric_columns])"
      ],
      "metadata": {
        "id": "TVtjy5jkhQ8R"
      },
      "execution_count": 18,
      "outputs": []
    },
    {
      "cell_type": "code",
      "source": [
        "#Plotting function\n",
        "import matplotlib.pyplot as plt\n",
        "from typing import Dict, List\n",
        "\n",
        "def plot_loss_curves(results: Dict[str, List[float]]):\n",
        "    # Get the loss values from the results dictionary\n",
        "    train_loss = results[\"train_loss\"]\n",
        "    test_loss = results[\"test_loss\"]\n",
        "\n",
        "    # Get the accuracy values from the results dictionary\n",
        "    train_accuracy = results[\"train_acc\"]\n",
        "    test_accuracy = results[\"test_acc\"]\n",
        "\n",
        "    # Figure out how many epochs there were\n",
        "    epochs = range(len(results[\"train_loss\"]))\n",
        "\n",
        "    # Setup plot\n",
        "    plt.figure(figsize=(15, 7))\n",
        "\n",
        "    # Plot the loss\n",
        "    plt.subplot(1, 2, 1)\n",
        "    plt.plot(epochs, train_loss, label=\"train_loss\")\n",
        "    plt.plot(epochs, test_loss, label=\"test_loss\")\n",
        "    plt.title(\"Loss\")\n",
        "    plt.xlabel(\"Epochs\")\n",
        "    plt.legend()\n",
        "\n",
        "    # Plot the accuracy\n",
        "    plt.subplot(1, 2, 2)\n",
        "    plt.plot(epochs, train_accuracy, label=\"train_accuracy\")\n",
        "    plt.plot(epochs, test_accuracy, label=\"test_accuracy\")\n",
        "    plt.title(\"Accuracy\")\n",
        "    plt.xlabel(\"Epochs\")\n",
        "    plt.legend()\n",
        "\n",
        "    plt.show()\n"
      ],
      "metadata": {
        "id": "a699TJA6rvO1"
      },
      "execution_count": 19,
      "outputs": []
    },
    {
      "cell_type": "code",
      "source": [
        "class AsthmaDataset(Dataset):\n",
        "    def __init__(self, data, target):\n",
        "        self.data = data\n",
        "        self.target = target\n",
        "\n",
        "    def __len__(self):\n",
        "        return len(self.data)\n",
        "\n",
        "    def __getitem__(self, idx):\n",
        "        x = self.data.iloc[idx].values.astype(np.float32)\n",
        "        y = np.array(self.target.iloc[idx]).astype(np.float32)  # Correctly convert the target value to a numpy array\n",
        "        return torch.tensor(x), torch.tensor(y)\n"
      ],
      "metadata": {
        "id": "6YU2Kj-bhYBl"
      },
      "execution_count": 20,
      "outputs": []
    },
    {
      "cell_type": "code",
      "source": [
        "# Define target variables for different models\n",
        "target_diagnosis = data['Diagnosis']\n",
        "target_severity = data[['Wheezing', 'ShortnessOfBreath', 'ChestTightness', 'Coughing', 'NighttimeSymptoms']]\n",
        "target_exacerbations = (data[['Wheezing', 'ShortnessOfBreath', 'ChestTightness', 'Coughing', 'NighttimeSymptoms']].sum(axis=1) > 2).astype(int)\n",
        "target_risk_factors = data[['Smoking', 'PollutionExposure', 'FamilyHistoryAsthma', 'HistoryOfAllergies', 'Eczema', 'HayFever']]\n",
        "\n",
        "# Drop target columns from the data\n",
        "data = data.drop(columns=['Diagnosis', 'Wheezing', 'ShortnessOfBreath', 'ChestTightness', 'Coughing', 'NighttimeSymptoms'])\n",
        "\n",
        "# Ensure all remaining columns are numeric\n",
        "assert all(data.dtypes != 'object')\n",
        "\n",
        "# Train-test split for each model\n",
        "X_train_diagnosis, X_test_diagnosis, y_train_diagnosis, y_test_diagnosis = train_test_split(data, target_diagnosis, test_size=0.2, random_state=42)\n",
        "X_train_severity, X_test_severity, y_train_severity, y_test_severity = train_test_split(data, target_severity, test_size=0.2, random_state=42)\n",
        "X_train_exacerbations, X_test_exacerbations, y_train_exacerbations, y_test_exacerbations = train_test_split(data, target_exacerbations, test_size=0.2, random_state=42)\n",
        "X_train_risk_factors, X_test_risk_factors, y_train_risk_factors, y_test_risk_factors = train_test_split(data, target_risk_factors, test_size=0.2, random_state=42)\n"
      ],
      "metadata": {
        "id": "o93J75kEi4ft"
      },
      "execution_count": 21,
      "outputs": []
    },
    {
      "cell_type": "code",
      "source": [
        "X_train_diagnosis, X_test_diagnosis, y_train_diagnosis, y_test_diagnosis"
      ],
      "metadata": {
        "colab": {
          "base_uri": "https://localhost:8080/"
        },
        "id": "Fopvo2dKsw_y",
        "outputId": "bce5ee7e-245a-49dd-e15d-cb438509edbf"
      },
      "execution_count": 22,
      "outputs": [
        {
          "output_type": "execute_result",
          "data": {
            "text/plain": [
              "(      PatientID       Age  Gender  Ethnicity  EducationLevel       BMI  \\\n",
              " 642        5676 -0.191553       0          0               3  1.702362   \n",
              " 1752       6786  1.289782       1          1               2  0.130321   \n",
              " 1401       6435 -0.145262       0          0               1  0.079654   \n",
              " 2032       7066  0.086197       1          3               2 -0.495270   \n",
              " 990        6024 -1.719180       1          3               1  1.250944   \n",
              " ...         ...       ...     ...        ...             ...       ...   \n",
              " 1638       6672  0.965740       0          3               1  0.069585   \n",
              " 1095       6129  1.660115       1          0               1 -1.682501   \n",
              " 1130       6164  0.873156       0          0               2 -0.894009   \n",
              " 1294       6328 -1.487721       0          0               0  1.275620   \n",
              " 860        5894 -0.885929       1          0               1  0.799286   \n",
              " \n",
              "       Smoking  PhysicalActivity  DietQuality  SleepQuality  ...  DustExposure  \\\n",
              " 642         0              2229            1          1273  ...          2302   \n",
              " 1752        0              1417         1399          1196  ...          1778   \n",
              " 1401        0               424         1405           157  ...          1243   \n",
              " 2032        0              1824         2274          1150  ...          2216   \n",
              " 990         0              2091          782          1374  ...          2083   \n",
              " ...       ...               ...          ...           ...  ...           ...   \n",
              " 1638        0                35         1303          1642  ...          1365   \n",
              " 1095        0              1173         2362          1468  ...          1518   \n",
              " 1130        0                26          701           891  ...           946   \n",
              " 1294        0                 3         1769          2132  ...          1268   \n",
              " 860         1               945         2118           966  ...           407   \n",
              " \n",
              "       PetAllergy  FamilyHistoryAsthma  HistoryOfAllergies  Eczema  HayFever  \\\n",
              " 642            0                    0                   0       0         0   \n",
              " 1752           0                    1                   0       0         0   \n",
              " 1401           1                    0                   0       0         1   \n",
              " 2032           0                    1                   0       1         1   \n",
              " 990            0                    1                   1       1         0   \n",
              " ...          ...                  ...                 ...     ...       ...   \n",
              " 1638           0                    0                   1       1         0   \n",
              " 1095           0                    0                   0       0         0   \n",
              " 1130           1                    1                   1       0         1   \n",
              " 1294           0                    0                   0       1         0   \n",
              " 860            0                    0                   0       1         0   \n",
              " \n",
              "       GastroesophagealReflux  LungFunctionFEV1  LungFunctionFVC  \\\n",
              " 642                        0          0.846202        -0.869605   \n",
              " 1752                       0          0.616976         1.554429   \n",
              " 1401                       0         -1.206919         0.414005   \n",
              " 2032                       0          0.918732        -0.107421   \n",
              " 990                        0          0.547295        -0.934523   \n",
              " ...                      ...               ...              ...   \n",
              " 1638                       0          0.463111        -0.317881   \n",
              " 1095                       0         -1.193947        -0.910005   \n",
              " 1130                       0          1.363995        -0.181926   \n",
              " 1294                       0         -1.568093        -1.714443   \n",
              " 860                        0         -0.722555         1.486616   \n",
              " \n",
              "       ExerciseInduced  \n",
              " 642                 1  \n",
              " 1752                1  \n",
              " 1401                1  \n",
              " 2032                0  \n",
              " 990                 1  \n",
              " ...               ...  \n",
              " 1638                0  \n",
              " 1095                0  \n",
              " 1130                1  \n",
              " 1294                1  \n",
              " 860                 0  \n",
              " \n",
              " [1913 rows x 22 columns],\n",
              "       PatientID       Age  Gender  Ethnicity  EducationLevel       BMI  \\\n",
              " 1004       6038  0.178780       0          0               1  1.171223   \n",
              " 196        5230 -1.209971       0          2               2 -1.222332   \n",
              " 2342       7376 -0.793346       0          0               1  0.668406   \n",
              " 1708       6742  1.474948       0          2               2  0.922297   \n",
              " 435        5469  1.613824       0          2               1 -0.297631   \n",
              " ...         ...       ...     ...        ...             ...       ...   \n",
              " 986        6020 -0.052678       1          0               1 -1.661925   \n",
              " 120        5154  1.474948       0          1               2  1.298778   \n",
              " 283        5317 -0.469304       1          3               2  1.141316   \n",
              " 1740       6774  0.178780       1          1               2  1.221918   \n",
              " 1726       6760  0.410239       0          0               1  0.142085   \n",
              " \n",
              "       Smoking  PhysicalActivity  DietQuality  SleepQuality  ...  DustExposure  \\\n",
              " 1004        0               384         1764           533  ...           684   \n",
              " 196         0              1994          481           155  ...          1054   \n",
              " 2342        0               662         1320           114  ...           890   \n",
              " 1708        0              1822         2249          2029  ...          1415   \n",
              " 435         1              1729         1831           448  ...          2212   \n",
              " ...       ...               ...          ...           ...  ...           ...   \n",
              " 986         0              1698         1141           826  ...           279   \n",
              " 120         1              1616         2019           803  ...           930   \n",
              " 283         0               617          326          1963  ...          1472   \n",
              " 1740        0               119          120           926  ...           475   \n",
              " 1726        0              2043          314          1573  ...          1133   \n",
              " \n",
              "       PetAllergy  FamilyHistoryAsthma  HistoryOfAllergies  Eczema  HayFever  \\\n",
              " 1004           0                    0                   1       0         1   \n",
              " 196            1                    1                   0       0         0   \n",
              " 2342           0                    0                   1       1         0   \n",
              " 1708           0                    1                   0       0         0   \n",
              " 435            0                    1                   1       1         0   \n",
              " ...          ...                  ...                 ...     ...       ...   \n",
              " 986            0                    0                   0       0         0   \n",
              " 120            0                    0                   1       0         0   \n",
              " 283            0                    1                   0       0         1   \n",
              " 1740           0                    0                   1       1         1   \n",
              " 1726           0                    1                   0       0         0   \n",
              " \n",
              "       GastroesophagealReflux  LungFunctionFEV1  LungFunctionFVC  \\\n",
              " 1004                       0         -0.344273        -1.571185   \n",
              " 196                        0         -1.794118        -0.912185   \n",
              " 2342                       0         -0.872321         1.422048   \n",
              " 1708                       0          1.330170        -1.002137   \n",
              " 435                        0          0.901652         0.562401   \n",
              " ...                      ...               ...              ...   \n",
              " 986                        1         -0.518925        -0.184935   \n",
              " 120                        0         -0.394197        -0.574353   \n",
              " 283                        0         -1.255718        -0.295066   \n",
              " 1740                       0          1.072556         0.147001   \n",
              " 1726                       0          0.737706        -0.541678   \n",
              " \n",
              "       ExerciseInduced  \n",
              " 1004                0  \n",
              " 196                 0  \n",
              " 2342                0  \n",
              " 1708                0  \n",
              " 435                 1  \n",
              " ...               ...  \n",
              " 986                 0  \n",
              " 120                 0  \n",
              " 283                 0  \n",
              " 1740                0  \n",
              " 1726                0  \n",
              " \n",
              " [479 rows x 22 columns],\n",
              " 642     0\n",
              " 1752    0\n",
              " 1401    0\n",
              " 2032    0\n",
              " 990     0\n",
              "        ..\n",
              " 1638    0\n",
              " 1095    0\n",
              " 1130    0\n",
              " 1294    0\n",
              " 860     0\n",
              " Name: Diagnosis, Length: 1913, dtype: int64,\n",
              " 1004    0\n",
              " 196     0\n",
              " 2342    0\n",
              " 1708    0\n",
              " 435     0\n",
              "        ..\n",
              " 986     0\n",
              " 120     0\n",
              " 283     0\n",
              " 1740    0\n",
              " 1726    0\n",
              " Name: Diagnosis, Length: 479, dtype: int64)"
            ]
          },
          "metadata": {},
          "execution_count": 22
        }
      ]
    },
    {
      "cell_type": "code",
      "source": [
        "# Create DataLoader for each model\n",
        "batch_size = 32\n",
        "\n",
        "train_loader_diagnosis = DataLoader(AsthmaDataset(X_train_diagnosis, y_train_diagnosis), batch_size=batch_size, shuffle=True)\n",
        "test_loader_diagnosis = DataLoader(AsthmaDataset(X_test_diagnosis, y_test_diagnosis), batch_size=batch_size, shuffle=False)\n",
        "\n",
        "train_loader_severity = DataLoader(AsthmaDataset(X_train_severity, y_train_severity), batch_size=batch_size, shuffle=True)\n",
        "test_loader_severity = DataLoader(AsthmaDataset(X_test_severity, y_test_severity), batch_size=batch_size, shuffle=False)\n",
        "\n",
        "train_loader_exacerbations = DataLoader(AsthmaDataset(X_train_exacerbations, y_train_exacerbations), batch_size=batch_size, shuffle=True)\n",
        "test_loader_exacerbations = DataLoader(AsthmaDataset(X_test_exacerbations, y_test_exacerbations), batch_size=batch_size, shuffle=False)\n",
        "\n",
        "train_loader_risk_factors = DataLoader(AsthmaDataset(X_train_risk_factors, y_train_risk_factors), batch_size=batch_size, shuffle=True)\n",
        "test_loader_risk_factors = DataLoader(AsthmaDataset(X_test_risk_factors, y_test_risk_factors), batch_size=batch_size, shuffle=False)"
      ],
      "metadata": {
        "id": "-DGquXDkmBxj"
      },
      "execution_count": 23,
      "outputs": []
    },
    {
      "cell_type": "code",
      "source": [
        "#Model definition:\n",
        "class AsthmaModel(nn.Module):\n",
        "    def __init__(self, input_dim, output_dim):\n",
        "        super(AsthmaModel, self).__init__()\n",
        "        self.fc1 = nn.Linear(input_dim, 128)\n",
        "        self.fc2 = nn.Linear(128, 64)\n",
        "        self.fc3 = nn.Linear(64, output_dim)\n",
        "        self.relu = nn.ReLU()\n",
        "        self.dropout = nn.Dropout(0.3)\n",
        "\n",
        "    def forward(self, x):\n",
        "        x = self.relu(self.fc1(x))\n",
        "        x = self.dropout(x)\n",
        "        x = self.relu(self.fc2(x))\n",
        "        x = self.dropout(x)\n",
        "        x = self.fc3(x)\n",
        "        return x\n",
        "\n",
        "        #return self.fc3(self.dropout(self.relu(self.fc2(self.dropout(self.relu(self.fc1(x))))))) #You can also run this as the forward"
      ],
      "metadata": {
        "id": "lqFhLwEMmC4K"
      },
      "execution_count": 24,
      "outputs": []
    },
    {
      "cell_type": "code",
      "source": [
        "from tqdm.auto import tqdm\n",
        "\n",
        "#Training function\n",
        "def train_model(model, train_loader, test_loader, criterion, optimizer, num_epochs):\n",
        "    model.train()\n",
        "    results = {\n",
        "        \"train_loss\": [],\n",
        "        \"test_loss\": [],\n",
        "        \"train_acc\": [],\n",
        "        \"test_acc\": []\n",
        "    }\n",
        "\n",
        "    for epoch in tqdm(range(num_epochs)):\n",
        "        running_loss = 0.0\n",
        "        correct = 0\n",
        "        total = 0\n",
        "\n",
        "        for inputs, labels in train_loader:\n",
        "            inputs, labels = inputs.to(device), labels.to(device)\n",
        "            optimizer.zero_grad()\n",
        "            outputs = model(inputs)\n",
        "            loss = criterion(outputs, labels.long())\n",
        "            loss.backward()\n",
        "            optimizer.step()\n",
        "\n",
        "            running_loss += loss.item() * inputs.size(0)\n",
        "            _, predicted = torch.max(outputs.data, 1)\n",
        "            total += labels.size(0)\n",
        "            correct += (predicted == labels).sum().item()\n",
        "\n",
        "        epoch_loss = running_loss / len(train_loader.dataset)\n",
        "        epoch_accuracy = correct / total\n",
        "        results[\"train_loss\"].append(epoch_loss)\n",
        "        results[\"train_acc\"].append(epoch_accuracy)\n",
        "\n",
        "        # Validation phase\n",
        "        model.eval()\n",
        "        test_loss = 0.0\n",
        "        correct = 0\n",
        "        total = 0\n",
        "        with torch.no_grad():\n",
        "            for inputs, labels in test_loader:\n",
        "                inputs, labels = inputs.to(device), labels.to(device)\n",
        "                outputs = model(inputs)\n",
        "                loss = criterion(outputs, labels.long())\n",
        "                test_loss += loss.item() * inputs.size(0)\n",
        "                _, predicted = torch.max(outputs.data, 1)\n",
        "                total += labels.size(0)\n",
        "                correct += (predicted == labels).sum().item()\n",
        "\n",
        "        epoch_test_loss = test_loss / len(test_loader.dataset)\n",
        "        epoch_test_accuracy = correct / total\n",
        "        results[\"test_loss\"].append(epoch_test_loss)\n",
        "        results[\"test_acc\"].append(epoch_test_accuracy)\n",
        "\n",
        "        model.train()  # Switch back to training mode\n",
        "\n",
        "        print(f'Epoch {epoch+1}/{num_epochs}, '\n",
        "              f'Train Loss: {epoch_loss:.4f}, Train Accuracy: {epoch_accuracy:.4f}, '\n",
        "              f'Test Loss: {epoch_test_loss:.4f}, Test Accuracy: {epoch_test_accuracy:.4f}')\n",
        "\n",
        "    return model, results"
      ],
      "metadata": {
        "id": "l4c_rAzQm0zo"
      },
      "execution_count": 25,
      "outputs": []
    },
    {
      "cell_type": "code",
      "source": [
        "# Define device\n",
        "device = torch.device('cuda' if torch.cuda.is_available() else 'cpu')\n",
        "\n",
        "# Define the model, criterion, and optimizer\n",
        "input_dim = data.shape[1]\n",
        "output_dim = 2  # Assuming binary classification for diagnosis\n",
        "\n",
        "model_diagnosis = AsthmaModel(input_dim, output_dim).to(device)\n",
        "criterion = nn.CrossEntropyLoss()\n",
        "optimizer = optim.Adam(model_diagnosis.parameters(), lr=0.001)\n"
      ],
      "metadata": {
        "id": "WvDj2Tlbm482"
      },
      "execution_count": 26,
      "outputs": []
    },
    {
      "cell_type": "code",
      "source": [
        "# Train the model and get the results\n",
        "num_epochs = 25\n",
        "model_diagnosis, results = train_model(model_diagnosis, train_loader_diagnosis, test_loader_diagnosis, criterion, optimizer, num_epochs)"
      ],
      "metadata": {
        "colab": {
          "base_uri": "https://localhost:8080/",
          "height": 503,
          "referenced_widgets": [
            "9602137db68f4106925642b8fd6b9dfd",
            "3680e0c01eab49119b11f7dbae2cc528",
            "78e14bcab7dd49c8a95be678167edbd8",
            "9927d0d525884f80a651f33815a31916",
            "5162272a66a644069ceb1c5e0eee35cd",
            "7566962b6d8940b8b1b69e0ed9926cb9",
            "4a4caabafafc4205a1213d83ebce3beb",
            "22c87f4ac0664a83b02ac16d7c55c49d",
            "2709c717fae1461c9c72f03cae6d593c",
            "3a4027ec363f4e52b2a1c0db9b5bcb75",
            "5e17fc84d368486f8a1c1770f8fc607c"
          ]
        },
        "id": "6lKYGAInnAXx",
        "outputId": "310baedc-e93a-4193-baff-02b13edda290"
      },
      "execution_count": 27,
      "outputs": [
        {
          "output_type": "display_data",
          "data": {
            "text/plain": [
              "  0%|          | 0/25 [00:00<?, ?it/s]"
            ],
            "application/vnd.jupyter.widget-view+json": {
              "version_major": 2,
              "version_minor": 0,
              "model_id": "9602137db68f4106925642b8fd6b9dfd"
            }
          },
          "metadata": {}
        },
        {
          "output_type": "stream",
          "name": "stdout",
          "text": [
            "Epoch 1/25, Train Loss: 17.3083, Train Accuracy: 0.8970, Test Loss: 5.1651, Test Accuracy: 0.9520\n",
            "Epoch 2/25, Train Loss: 3.7616, Train Accuracy: 0.8829, Test Loss: 0.7747, Test Accuracy: 0.9520\n",
            "Epoch 3/25, Train Loss: 1.4583, Train Accuracy: 0.8913, Test Loss: 0.2655, Test Accuracy: 0.9520\n",
            "Epoch 4/25, Train Loss: 0.6866, Train Accuracy: 0.9096, Test Loss: 0.3836, Test Accuracy: 0.9520\n",
            "Epoch 5/25, Train Loss: 0.4679, Train Accuracy: 0.9341, Test Loss: 0.4192, Test Accuracy: 0.9520\n",
            "Epoch 6/25, Train Loss: 0.3778, Train Accuracy: 0.9394, Test Loss: 0.3120, Test Accuracy: 0.9520\n",
            "Epoch 7/25, Train Loss: 0.3266, Train Accuracy: 0.9373, Test Loss: 0.2211, Test Accuracy: 0.9520\n",
            "Epoch 8/25, Train Loss: 0.3309, Train Accuracy: 0.9430, Test Loss: 0.3021, Test Accuracy: 0.9520\n",
            "Epoch 9/25, Train Loss: 0.2975, Train Accuracy: 0.9425, Test Loss: 0.2319, Test Accuracy: 0.9520\n",
            "Epoch 10/25, Train Loss: 0.3186, Train Accuracy: 0.9462, Test Loss: 0.2393, Test Accuracy: 0.9520\n",
            "Epoch 11/25, Train Loss: 0.2796, Train Accuracy: 0.9425, Test Loss: 0.3029, Test Accuracy: 0.9520\n",
            "Epoch 12/25, Train Loss: 0.2611, Train Accuracy: 0.9462, Test Loss: 0.2045, Test Accuracy: 0.9520\n",
            "Epoch 13/25, Train Loss: 0.2795, Train Accuracy: 0.9462, Test Loss: 0.1968, Test Accuracy: 0.9520\n",
            "Epoch 14/25, Train Loss: 0.2533, Train Accuracy: 0.9451, Test Loss: 0.2231, Test Accuracy: 0.9520\n",
            "Epoch 15/25, Train Loss: 0.2658, Train Accuracy: 0.9462, Test Loss: 0.1957, Test Accuracy: 0.9520\n",
            "Epoch 16/25, Train Loss: 0.2639, Train Accuracy: 0.9462, Test Loss: 0.2392, Test Accuracy: 0.9520\n",
            "Epoch 17/25, Train Loss: 0.2806, Train Accuracy: 0.9467, Test Loss: 0.2206, Test Accuracy: 0.9520\n",
            "Epoch 18/25, Train Loss: 0.2453, Train Accuracy: 0.9467, Test Loss: 0.2804, Test Accuracy: 0.9520\n",
            "Epoch 19/25, Train Loss: 0.2528, Train Accuracy: 0.9467, Test Loss: 0.2182, Test Accuracy: 0.9520\n",
            "Epoch 20/25, Train Loss: 0.2469, Train Accuracy: 0.9456, Test Loss: 0.1918, Test Accuracy: 0.9520\n",
            "Epoch 21/25, Train Loss: 0.2241, Train Accuracy: 0.9467, Test Loss: 0.2026, Test Accuracy: 0.9520\n",
            "Epoch 22/25, Train Loss: 0.2483, Train Accuracy: 0.9472, Test Loss: 0.2097, Test Accuracy: 0.9520\n",
            "Epoch 23/25, Train Loss: 0.2431, Train Accuracy: 0.9472, Test Loss: 0.2224, Test Accuracy: 0.9520\n",
            "Epoch 24/25, Train Loss: 0.2343, Train Accuracy: 0.9462, Test Loss: 0.2097, Test Accuracy: 0.9520\n",
            "Epoch 25/25, Train Loss: 0.2505, Train Accuracy: 0.9467, Test Loss: 0.2154, Test Accuracy: 0.9520\n"
          ]
        }
      ]
    },
    {
      "cell_type": "code",
      "source": [
        "def evaluate_model(model, test_loader):\n",
        "    model.eval()\n",
        "    correct = 0\n",
        "    total = 0\n",
        "    with torch.no_grad():\n",
        "        for inputs, labels in test_loader:\n",
        "            inputs, labels = inputs.to(device), labels.to(device)\n",
        "            outputs = model(inputs)\n",
        "            _, predicted = torch.max(outputs.data, 1)\n",
        "            total += labels.size(0)\n",
        "            correct += (predicted == labels).sum().item()\n",
        "\n",
        "    accuracy = correct / total\n",
        "    print(f'Accuracy: {accuracy:.4f}')\n"
      ],
      "metadata": {
        "id": "V25uvrbpnDo-"
      },
      "execution_count": 28,
      "outputs": []
    },
    {
      "cell_type": "code",
      "source": [
        "# Evaluate the diagnosis model\n",
        "evaluate_model(model_diagnosis, test_loader_diagnosis)"
      ],
      "metadata": {
        "colab": {
          "base_uri": "https://localhost:8080/"
        },
        "id": "qTvnRkwRnG9T",
        "outputId": "81b60d23-f104-499c-b9d2-301199b2cb18"
      },
      "execution_count": 29,
      "outputs": [
        {
          "output_type": "stream",
          "name": "stdout",
          "text": [
            "Accuracy: 0.9520\n"
          ]
        }
      ]
    },
    {
      "cell_type": "code",
      "source": [
        "# Plot the training curves\n",
        "plot_loss_curves(results)"
      ],
      "metadata": {
        "colab": {
          "base_uri": "https://localhost:8080/",
          "height": 455
        },
        "id": "UNV6gPrjsRD_",
        "outputId": "8ce626b5-e0c5-4354-e37c-3f756d0a9f2b"
      },
      "execution_count": 30,
      "outputs": [
        {
          "output_type": "display_data",
          "data": {
            "text/plain": [
              "<Figure size 1500x700 with 2 Axes>"
            ],
            "image/png": "[encoded data removed]"
          },
          "metadata": {}
        }
      ]
    },
    {
      "cell_type": "code",
      "source": [
        "# Assuming your model expects 128 features\n",
        "\n",
        "def preprocess_input(data, label_encoders, scaler, categorical_columns, numeric_columns):\n",
        "    \"\"\"\n",
        "    Preprocess the input data in the same way as the training data.\n",
        "    \"\"\"\n",
        "    # Convert data to DataFrame if not already\n",
        "    if not isinstance(data, pd.DataFrame):\n",
        "        data = pd.DataFrame(data, columns=numeric_columns + categorical_columns)\n",
        "\n",
        "    # Encode categorical variables\n",
        "    for column in categorical_columns:\n",
        "        le = label_encoders[column]\n",
        "        # Convert to string to ensure consistency with label encoders\n",
        "        data[column] = data[column].astype(str)\n",
        "        # Handle unseen labels\n",
        "        data[column] = data[column].apply(lambda x: x if x in le.classes_ else le.classes_[0])\n",
        "        # Transform using the label encoder\n",
        "        data[column] = le.transform(data[column])\n",
        "\n",
        "    # Scale numeric features\n",
        "    data[numeric_columns] = scaler.transform(data[numeric_columns])\n",
        "\n",
        "    # Convert to numpy array and then to torch tensor\n",
        "    processed_data = data.values.astype(np.float32)\n",
        "    processed_data = torch.tensor(processed_data)  # Ensure it's a torch tensor\n",
        "\n",
        "    return processed_data\n"
      ],
      "metadata": {
        "id": "HYz3SoHPvxhh"
      },
      "execution_count": 67,
      "outputs": []
    },
    {
      "cell_type": "code",
      "source": [
        "def make_prediction(model, input_data, label_encoders, scaler, categorical_columns, numeric_columns):\n",
        "    \"\"\"\n",
        "    Make a prediction using the trained model.\n",
        "\n",
        "    Args:\n",
        "        model: Trained PyTorch model.\n",
        "        input_data: DataFrame containing the new data.\n",
        "        label_encoders: Dictionary of label encoders used for categorical columns.\n",
        "        scaler: Scaler used for numerical columns.\n",
        "        categorical_columns: List of categorical column names.\n",
        "        numeric_columns: List of numerical column names.\n",
        "\n",
        "    Returns:\n",
        "        predictions: Model predictions.\n",
        "    \"\"\"\n",
        "    model.eval()\n",
        "\n",
        "    # Preprocess the input data\n",
        "    input_data = preprocess_input(input_data, label_encoders, scaler, categorical_columns, numeric_columns)\n",
        "\n",
        "    # Move the data to the appropriate device\n",
        "    input_data = input_data.to(device)\n",
        "\n",
        "    # Make predictions\n",
        "    with torch.no_grad():\n",
        "        outputs = model(input_data)\n",
        "        _, predictions = torch.max(outputs, 1)\n",
        "\n",
        "    return predictions.cpu().numpy()\n"
      ],
      "metadata": {
        "id": "bv5NdPXQvyxJ"
      },
      "execution_count": 56,
      "outputs": []
    },
    {
      "cell_type": "code",
      "source": [
        "# Example usage:\n",
        "# Load or create a DataFrame with new data\n",
        "new_data = pd.DataFrame({\n",
        "    'Age': [45],\n",
        "    'Gender': ['Female'],\n",
        "    'Ethnicity': ['Caucasian'],\n",
        "    'EducationLevel': ['College'],\n",
        "    'BMI': [29.91029825809871],\n",
        "    'Smoking': ['No'],\n",
        "    'PhysicalActivity': [2.895720176719403],\n",
        "    'DietQuality': [2.6077004679895364],\n",
        "    'SleepQuality': [7.2349084771854155],  # Unseen label (handled appropriately)\n",
        "    'PollutionExposure': [1.7117219761520086],\n",
        "    'PollenExposure': [0.7414487929922242],\n",
        "    'DustExposure': [6.466790407464899],\n",
        "    'PetAllergy': ['No'],\n",
        "    'FamilyHistoryAsthma': ['Yes'],\n",
        "    'HistoryOfAllergies': ['Yes'],\n",
        "    'Eczema': ['No'],\n",
        "    'HayFever': ['No'],\n",
        "    'GastroesophagealReflux': ['No'],\n",
        "    'LungFunctionFEV1': [2.848420334462916],\n",
        "    'LungFunctionFVC': [5.771022308077478]\n",
        "})\n",
        "\n",
        "# Preprocess input data\n",
        "processed_data = preprocess_input(new_data, label_encoders, scaler, categorical_columns, numeric_columns)\n",
        "\n",
        "# Ensure processed_data has the correct shape\n",
        "print(processed_data.shape)  # Should print torch.Size([1, 22]) if 22 features are expected by the model\n",
        "\n",
        "# Make prediction with all required arguments\n",
        "predictions = make_prediction(model_diagnosis, processed_data, label_encoders, scaler, categorical_columns, numeric_columns)\n",
        "print(f'Predicted class: {predictions[0]}')\n"
      ],
      "metadata": {
        "colab": {
          "base_uri": "https://localhost:8080/",
          "height": 388
        },
        "id": "DxJAWFBGwtp1",
        "outputId": "4d518bc6-f182-43a3-dfaa-b7a2dbc06e27"
      },
      "execution_count": 68,
      "outputs": [
        {
          "output_type": "stream",
          "name": "stdout",
          "text": [
            "torch.Size([1, 20])\n"
          ]
        },
        {
          "output_type": "error",
          "ename": "RuntimeError",
          "evalue": "mat1 and mat2 shapes cannot be multiplied (1x20 and 22x128)",
          "traceback": [
            "\u001b[0;31m---------------------------------------------------------------------------\u001b[0m",
            "\u001b[0;31mRuntimeError\u001b[0m                              Traceback (most recent call last)",
            "\u001b[0;32m<ipython-input-68-5b467bfff6e3>\u001b[0m in \u001b[0;36m<cell line: 33>\u001b[0;34m()\u001b[0m\n\u001b[1;32m     31\u001b[0m \u001b[0;34m\u001b[0m\u001b[0m\n\u001b[1;32m     32\u001b[0m \u001b[0;31m# Make prediction with all required arguments\u001b[0m\u001b[0;34m\u001b[0m\u001b[0;34m\u001b[0m\u001b[0m\n\u001b[0;32m---> 33\u001b[0;31m \u001b[0mpredictions\u001b[0m \u001b[0;34m=\u001b[0m \u001b[0mmake_prediction\u001b[0m\u001b[0;34m(\u001b[0m\u001b[0mmodel_diagnosis\u001b[0m\u001b[0;34m,\u001b[0m \u001b[0mprocessed_data\u001b[0m\u001b[0;34m,\u001b[0m \u001b[0mlabel_encoders\u001b[0m\u001b[0;34m,\u001b[0m \u001b[0mscaler\u001b[0m\u001b[0;34m,\u001b[0m \u001b[0mcategorical_columns\u001b[0m\u001b[0;34m,\u001b[0m \u001b[0mnumeric_columns\u001b[0m\u001b[0;34m)\u001b[0m\u001b[0;34m\u001b[0m\u001b[0;34m\u001b[0m\u001b[0m\n\u001b[0m\u001b[1;32m     34\u001b[0m \u001b[0mprint\u001b[0m\u001b[0;34m(\u001b[0m\u001b[0;34mf'Predicted class: {predictions[0]}'\u001b[0m\u001b[0;34m)\u001b[0m\u001b[0;34m\u001b[0m\u001b[0;34m\u001b[0m\u001b[0m\n",
            "\u001b[0;32m<ipython-input-56-b29bb780dd78>\u001b[0m in \u001b[0;36mmake_prediction\u001b[0;34m(model, input_data, label_encoders, scaler, categorical_columns, numeric_columns)\u001b[0m\n\u001b[1;32m     24\u001b[0m     \u001b[0;31m# Make predictions\u001b[0m\u001b[0;34m\u001b[0m\u001b[0;34m\u001b[0m\u001b[0m\n\u001b[1;32m     25\u001b[0m     \u001b[0;32mwith\u001b[0m \u001b[0mtorch\u001b[0m\u001b[0;34m.\u001b[0m\u001b[0mno_grad\u001b[0m\u001b[0;34m(\u001b[0m\u001b[0;34m)\u001b[0m\u001b[0;34m:\u001b[0m\u001b[0;34m\u001b[0m\u001b[0;34m\u001b[0m\u001b[0m\n\u001b[0;32m---> 26\u001b[0;31m         \u001b[0moutputs\u001b[0m \u001b[0;34m=\u001b[0m \u001b[0mmodel\u001b[0m\u001b[0;34m(\u001b[0m\u001b[0minput_data\u001b[0m\u001b[0;34m)\u001b[0m\u001b[0;34m\u001b[0m\u001b[0;34m\u001b[0m\u001b[0m\n\u001b[0m\u001b[1;32m     27\u001b[0m         \u001b[0m_\u001b[0m\u001b[0;34m,\u001b[0m \u001b[0mpredictions\u001b[0m \u001b[0;34m=\u001b[0m \u001b[0mtorch\u001b[0m\u001b[0;34m.\u001b[0m\u001b[0mmax\u001b[0m\u001b[0;34m(\u001b[0m\u001b[0moutputs\u001b[0m\u001b[0;34m,\u001b[0m \u001b[0;36m1\u001b[0m\u001b[0;34m)\u001b[0m\u001b[0;34m\u001b[0m\u001b[0;34m\u001b[0m\u001b[0m\n\u001b[1;32m     28\u001b[0m \u001b[0;34m\u001b[0m\u001b[0m\n",
            "\u001b[0;32m/usr/local/lib/python3.10/dist-packages/torch/nn/modules/module.py\u001b[0m in \u001b[0;36m_wrapped_call_impl\u001b[0;34m(self, *args, **kwargs)\u001b[0m\n\u001b[1;32m   1530\u001b[0m             \u001b[0;32mreturn\u001b[0m \u001b[0mself\u001b[0m\u001b[0;34m.\u001b[0m\u001b[0m_compiled_call_impl\u001b[0m\u001b[0;34m(\u001b[0m\u001b[0;34m*\u001b[0m\u001b[0margs\u001b[0m\u001b[0;34m,\u001b[0m \u001b[0;34m**\u001b[0m\u001b[0mkwargs\u001b[0m\u001b[0;34m)\u001b[0m  \u001b[0;31m# type: ignore[misc]\u001b[0m\u001b[0;34m\u001b[0m\u001b[0;34m\u001b[0m\u001b[0m\n\u001b[1;32m   1531\u001b[0m         \u001b[0;32melse\u001b[0m\u001b[0;34m:\u001b[0m\u001b[0;34m\u001b[0m\u001b[0;34m\u001b[0m\u001b[0m\n\u001b[0;32m-> 1532\u001b[0;31m             \u001b[0;32mreturn\u001b[0m \u001b[0mself\u001b[0m\u001b[0;34m.\u001b[0m\u001b[0m_call_impl\u001b[0m\u001b[0;34m(\u001b[0m\u001b[0;34m*\u001b[0m\u001b[0margs\u001b[0m\u001b[0;34m,\u001b[0m \u001b[0;34m**\u001b[0m\u001b[0mkwargs\u001b[0m\u001b[0;34m)\u001b[0m\u001b[0;34m\u001b[0m\u001b[0;34m\u001b[0m\u001b[0m\n\u001b[0m\u001b[1;32m   1533\u001b[0m \u001b[0;34m\u001b[0m\u001b[0m\n\u001b[1;32m   1534\u001b[0m     \u001b[0;32mdef\u001b[0m \u001b[0m_call_impl\u001b[0m\u001b[0;34m(\u001b[0m\u001b[0mself\u001b[0m\u001b[0;34m,\u001b[0m \u001b[0;34m*\u001b[0m\u001b[0margs\u001b[0m\u001b[0;34m,\u001b[0m \u001b[0;34m**\u001b[0m\u001b[0mkwargs\u001b[0m\u001b[0;34m)\u001b[0m\u001b[0;34m:\u001b[0m\u001b[0;34m\u001b[0m\u001b[0;34m\u001b[0m\u001b[0m\n",
            "\u001b[0;32m/usr/local/lib/python3.10/dist-packages/torch/nn/modules/module.py\u001b[0m in \u001b[0;36m_call_impl\u001b[0;34m(self, *args, **kwargs)\u001b[0m\n\u001b[1;32m   1539\u001b[0m                 \u001b[0;32mor\u001b[0m \u001b[0m_global_backward_pre_hooks\u001b[0m \u001b[0;32mor\u001b[0m \u001b[0m_global_backward_hooks\u001b[0m\u001b[0;34m\u001b[0m\u001b[0;34m\u001b[0m\u001b[0m\n\u001b[1;32m   1540\u001b[0m                 or _global_forward_hooks or _global_forward_pre_hooks):\n\u001b[0;32m-> 1541\u001b[0;31m             \u001b[0;32mreturn\u001b[0m \u001b[0mforward_call\u001b[0m\u001b[0;34m(\u001b[0m\u001b[0;34m*\u001b[0m\u001b[0margs\u001b[0m\u001b[0;34m,\u001b[0m \u001b[0;34m**\u001b[0m\u001b[0mkwargs\u001b[0m\u001b[0;34m)\u001b[0m\u001b[0;34m\u001b[0m\u001b[0;34m\u001b[0m\u001b[0m\n\u001b[0m\u001b[1;32m   1542\u001b[0m \u001b[0;34m\u001b[0m\u001b[0m\n\u001b[1;32m   1543\u001b[0m         \u001b[0;32mtry\u001b[0m\u001b[0;34m:\u001b[0m\u001b[0;34m\u001b[0m\u001b[0;34m\u001b[0m\u001b[0m\n",
            "\u001b[0;32m<ipython-input-24-68747e15a38f>\u001b[0m in \u001b[0;36mforward\u001b[0;34m(self, x)\u001b[0m\n\u001b[1;32m     10\u001b[0m \u001b[0;34m\u001b[0m\u001b[0m\n\u001b[1;32m     11\u001b[0m     \u001b[0;32mdef\u001b[0m \u001b[0mforward\u001b[0m\u001b[0;34m(\u001b[0m\u001b[0mself\u001b[0m\u001b[0;34m,\u001b[0m \u001b[0mx\u001b[0m\u001b[0;34m)\u001b[0m\u001b[0;34m:\u001b[0m\u001b[0;34m\u001b[0m\u001b[0;34m\u001b[0m\u001b[0m\n\u001b[0;32m---> 12\u001b[0;31m         \u001b[0mx\u001b[0m \u001b[0;34m=\u001b[0m \u001b[0mself\u001b[0m\u001b[0;34m.\u001b[0m\u001b[0mrelu\u001b[0m\u001b[0;34m(\u001b[0m\u001b[0mself\u001b[0m\u001b[0;34m.\u001b[0m\u001b[0mfc1\u001b[0m\u001b[0;34m(\u001b[0m\u001b[0mx\u001b[0m\u001b[0;34m)\u001b[0m\u001b[0;34m)\u001b[0m\u001b[0;34m\u001b[0m\u001b[0;34m\u001b[0m\u001b[0m\n\u001b[0m\u001b[1;32m     13\u001b[0m         \u001b[0mx\u001b[0m \u001b[0;34m=\u001b[0m \u001b[0mself\u001b[0m\u001b[0;34m.\u001b[0m\u001b[0mdropout\u001b[0m\u001b[0;34m(\u001b[0m\u001b[0mx\u001b[0m\u001b[0;34m)\u001b[0m\u001b[0;34m\u001b[0m\u001b[0;34m\u001b[0m\u001b[0m\n\u001b[1;32m     14\u001b[0m         \u001b[0mx\u001b[0m \u001b[0;34m=\u001b[0m \u001b[0mself\u001b[0m\u001b[0;34m.\u001b[0m\u001b[0mrelu\u001b[0m\u001b[0;34m(\u001b[0m\u001b[0mself\u001b[0m\u001b[0;34m.\u001b[0m\u001b[0mfc2\u001b[0m\u001b[0;34m(\u001b[0m\u001b[0mx\u001b[0m\u001b[0;34m)\u001b[0m\u001b[0;34m)\u001b[0m\u001b[0;34m\u001b[0m\u001b[0;34m\u001b[0m\u001b[0m\n",
            "\u001b[0;32m/usr/local/lib/python3.10/dist-packages/torch/nn/modules/module.py\u001b[0m in \u001b[0;36m_wrapped_call_impl\u001b[0;34m(self, *args, **kwargs)\u001b[0m\n\u001b[1;32m   1530\u001b[0m             \u001b[0;32mreturn\u001b[0m \u001b[0mself\u001b[0m\u001b[0;34m.\u001b[0m\u001b[0m_compiled_call_impl\u001b[0m\u001b[0;34m(\u001b[0m\u001b[0;34m*\u001b[0m\u001b[0margs\u001b[0m\u001b[0;34m,\u001b[0m \u001b[0;34m**\u001b[0m\u001b[0mkwargs\u001b[0m\u001b[0;34m)\u001b[0m  \u001b[0;31m# type: ignore[misc]\u001b[0m\u001b[0;34m\u001b[0m\u001b[0;34m\u001b[0m\u001b[0m\n\u001b[1;32m   1531\u001b[0m         \u001b[0;32melse\u001b[0m\u001b[0;34m:\u001b[0m\u001b[0;34m\u001b[0m\u001b[0;34m\u001b[0m\u001b[0m\n\u001b[0;32m-> 1532\u001b[0;31m             \u001b[0;32mreturn\u001b[0m \u001b[0mself\u001b[0m\u001b[0;34m.\u001b[0m\u001b[0m_call_impl\u001b[0m\u001b[0;34m(\u001b[0m\u001b[0;34m*\u001b[0m\u001b[0margs\u001b[0m\u001b[0;34m,\u001b[0m \u001b[0;34m**\u001b[0m\u001b[0mkwargs\u001b[0m\u001b[0;34m)\u001b[0m\u001b[0;34m\u001b[0m\u001b[0;34m\u001b[0m\u001b[0m\n\u001b[0m\u001b[1;32m   1533\u001b[0m \u001b[0;34m\u001b[0m\u001b[0m\n\u001b[1;32m   1534\u001b[0m     \u001b[0;32mdef\u001b[0m \u001b[0m_call_impl\u001b[0m\u001b[0;34m(\u001b[0m\u001b[0mself\u001b[0m\u001b[0;34m,\u001b[0m \u001b[0;34m*\u001b[0m\u001b[0margs\u001b[0m\u001b[0;34m,\u001b[0m \u001b[0;34m**\u001b[0m\u001b[0mkwargs\u001b[0m\u001b[0;34m)\u001b[0m\u001b[0;34m:\u001b[0m\u001b[0;34m\u001b[0m\u001b[0;34m\u001b[0m\u001b[0m\n",
            "\u001b[0;32m/usr/local/lib/python3.10/dist-packages/torch/nn/modules/module.py\u001b[0m in \u001b[0;36m_call_impl\u001b[0;34m(self, *args, **kwargs)\u001b[0m\n\u001b[1;32m   1539\u001b[0m                 \u001b[0;32mor\u001b[0m \u001b[0m_global_backward_pre_hooks\u001b[0m \u001b[0;32mor\u001b[0m \u001b[0m_global_backward_hooks\u001b[0m\u001b[0;34m\u001b[0m\u001b[0;34m\u001b[0m\u001b[0m\n\u001b[1;32m   1540\u001b[0m                 or _global_forward_hooks or _global_forward_pre_hooks):\n\u001b[0;32m-> 1541\u001b[0;31m             \u001b[0;32mreturn\u001b[0m \u001b[0mforward_call\u001b[0m\u001b[0;34m(\u001b[0m\u001b[0;34m*\u001b[0m\u001b[0margs\u001b[0m\u001b[0;34m,\u001b[0m \u001b[0;34m**\u001b[0m\u001b[0mkwargs\u001b[0m\u001b[0;34m)\u001b[0m\u001b[0;34m\u001b[0m\u001b[0;34m\u001b[0m\u001b[0m\n\u001b[0m\u001b[1;32m   1542\u001b[0m \u001b[0;34m\u001b[0m\u001b[0m\n\u001b[1;32m   1543\u001b[0m         \u001b[0;32mtry\u001b[0m\u001b[0;34m:\u001b[0m\u001b[0;34m\u001b[0m\u001b[0;34m\u001b[0m\u001b[0m\n",
            "\u001b[0;32m/usr/local/lib/python3.10/dist-packages/torch/nn/modules/linear.py\u001b[0m in \u001b[0;36mforward\u001b[0;34m(self, input)\u001b[0m\n\u001b[1;32m    114\u001b[0m \u001b[0;34m\u001b[0m\u001b[0m\n\u001b[1;32m    115\u001b[0m     \u001b[0;32mdef\u001b[0m \u001b[0mforward\u001b[0m\u001b[0;34m(\u001b[0m\u001b[0mself\u001b[0m\u001b[0;34m,\u001b[0m \u001b[0minput\u001b[0m\u001b[0;34m:\u001b[0m \u001b[0mTensor\u001b[0m\u001b[0;34m)\u001b[0m \u001b[0;34m->\u001b[0m \u001b[0mTensor\u001b[0m\u001b[0;34m:\u001b[0m\u001b[0;34m\u001b[0m\u001b[0;34m\u001b[0m\u001b[0m\n\u001b[0;32m--> 116\u001b[0;31m         \u001b[0;32mreturn\u001b[0m \u001b[0mF\u001b[0m\u001b[0;34m.\u001b[0m\u001b[0mlinear\u001b[0m\u001b[0;34m(\u001b[0m\u001b[0minput\u001b[0m\u001b[0;34m,\u001b[0m \u001b[0mself\u001b[0m\u001b[0;34m.\u001b[0m\u001b[0mweight\u001b[0m\u001b[0;34m,\u001b[0m \u001b[0mself\u001b[0m\u001b[0;34m.\u001b[0m\u001b[0mbias\u001b[0m\u001b[0;34m)\u001b[0m\u001b[0;34m\u001b[0m\u001b[0;34m\u001b[0m\u001b[0m\n\u001b[0m\u001b[1;32m    117\u001b[0m \u001b[0;34m\u001b[0m\u001b[0m\n\u001b[1;32m    118\u001b[0m     \u001b[0;32mdef\u001b[0m \u001b[0mextra_repr\u001b[0m\u001b[0;34m(\u001b[0m\u001b[0mself\u001b[0m\u001b[0;34m)\u001b[0m \u001b[0;34m->\u001b[0m \u001b[0mstr\u001b[0m\u001b[0;34m:\u001b[0m\u001b[0;34m\u001b[0m\u001b[0;34m\u001b[0m\u001b[0m\n",
            "\u001b[0;31mRuntimeError\u001b[0m: mat1 and mat2 shapes cannot be multiplied (1x20 and 22x128)"
          ]
        }
      ]
    }
  ]
}